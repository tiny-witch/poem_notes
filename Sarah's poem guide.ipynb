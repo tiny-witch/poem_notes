{
 "cells": [
  {
   "cell_type": "markdown",
   "metadata": {},
   "source": [
    "## Poem notes: Formatting your poem"
   ]
  },
  {
   "cell_type": "markdown",
   "metadata": {},
   "source": [
    "**Note**: all of the notes here are made in ***markdown***, you can find out more about using markdown here:\n",
    "* https://www.markdownguide.org/basic-syntax/"
   ]
  },
  {
   "cell_type": "markdown",
   "metadata": {},
   "source": [
    "Python contains a variety of built in functions for parsing through strings\n"
   ]
  },
  {
   "cell_type": "markdown",
   "metadata": {},
   "source": [
    "## Color"
   ]
  },
  {
   "cell_type": "markdown",
   "metadata": {},
   "source": [
    "Printing in terminal in python uses ANSI Escape code. \n",
    "This is complex but basically all you need to do is:\n",
    "* define the colors, formats etc you want to use\n",
    "* in an 'explain it like I'm five' way, they're basically flags\n",
    "* in this case we use a **class**. Mainly because that's what the first guy used and it works just fine. \n",
    "  * **You can find his code here:** https://stackoverflow.com/questions/8924173/how-do-i-print-bold-text-in-python/8930747\n",
    "\n",
    "  **Yes, _Technically_ it would be better as a dictionary and a function-- but it'll work just fine for right now**\n",
    "* find out more about ANSI here:\n",
    "* * https://en.wikipedia.org/wiki/ANSI_escape_code"
   ]
  },
  {
   "cell_type": "code",
   "execution_count": 42,
   "metadata": {},
   "outputs": [
    {
     "name": "stdout",
     "output_type": "stream",
     "text": [
      "\u001b[95mHello World !\n"
     ]
    }
   ],
   "source": [
    "# code found here: https://stackoverflow.com/questions/8924173/how-do-i-print-bold-text-in-python/8930747\n",
    "class color:\n",
    "   PURPLE = '\\033[95m'\n",
    "   CYAN = '\\033[96m'\n",
    "   DARKCYAN = '\\033[36m'\n",
    "   BLUE = '\\033[94m'\n",
    "   GREEN = '\\033[92m'\n",
    "   YELLOW = '\\033[93m'\n",
    "   RED = '\\033[91m'\n",
    "   BOLD = '\\033[1m'\n",
    "   UNDERLINE = '\\033[4m'\n",
    "   END = '\\033[0m'\n",
    "\n",
    "print(color.PURPLE + 'Hello World !' )"
   ]
  },
  {
   "cell_type": "markdown",
   "metadata": {},
   "source": [
    "Note to self: is a class or a function better for this use case? I think functiion but honestly don't know"
   ]
  },
  {
   "cell_type": "code",
   "execution_count": 50,
   "metadata": {
    "scrolled": true
   },
   "outputs": [
    {
     "name": "stdout",
     "output_type": "stream",
     "text": [
      "\u001b[91mred  \u001b[94mblue  \u001b[0mnormal text\n"
     ]
    }
   ],
   "source": [
    "print(color.RED +'red ', color.BLUE + 'blue ', color.END + 'normal text')"
   ]
  },
  {
   "cell_type": "markdown",
   "metadata": {},
   "source": [
    "* adding **sep = '\\n'** will separate the elements of the text by a newline"
   ]
  },
  {
   "cell_type": "code",
   "execution_count": 49,
   "metadata": {},
   "outputs": [
    {
     "name": "stdout",
     "output_type": "stream",
     "text": [
      "\u001b[91mred \n",
      "\u001b[94mblue \n",
      "\u001b[0mnormal text\n"
     ]
    }
   ],
   "source": [
    "print(color.RED +'red ', color.BLUE + 'blue ', color.END + 'normal text', sep = '\\n' )"
   ]
  },
  {
   "cell_type": "markdown",
   "metadata": {},
   "source": [
    "* You can seperate by almost anything, ie:"
   ]
  },
  {
   "cell_type": "code",
   "execution_count": 52,
   "metadata": {},
   "outputs": [
    {
     "name": "stdout",
     "output_type": "stream",
     "text": [
      "\u001b[91mred --> \u001b[94mblue --> \u001b[0mnormal text\n"
     ]
    }
   ],
   "source": [
    "print(color.RED +'red ', color.BLUE + 'blue ', color.END + 'normal text', sep = '--> ' )"
   ]
  },
  {
   "cell_type": "code",
   "execution_count": 53,
   "metadata": {},
   "outputs": [
    {
     "name": "stdout",
     "output_type": "stream",
     "text": [
      "\u001b[91mred ..... \u001b[94mblue ..... \u001b[0mnormal text\n"
     ]
    }
   ],
   "source": [
    "print(color.RED +'red ', color.BLUE + 'blue ', color.END + 'normal text', sep = '..... ' )"
   ]
  },
  {
   "cell_type": "code",
   "execution_count": 54,
   "metadata": {
    "scrolled": true
   },
   "outputs": [
    {
     "name": "stdout",
     "output_type": "stream",
     "text": [
      "\u001b[91mred hello_world \u001b[94mblue hello_world \u001b[0mnormal text\n"
     ]
    }
   ],
   "source": [
    "print(color.RED +'red ', color.BLUE + 'blue ', color.END + 'normal text', sep = 'hello_world ' )"
   ]
  },
  {
   "cell_type": "markdown",
   "metadata": {},
   "source": [
    "### Formatting:\n",
    "* **\\n** means **new line**\n",
    "* **\\t** means **tab**"
   ]
  },
  {
   "cell_type": "code",
   "execution_count": 145,
   "metadata": {},
   "outputs": [
    {
     "name": "stdout",
     "output_type": "stream",
     "text": [
      "\u001b[91mred \n",
      " \u001b[94m\t blue \n",
      " \u001b[0m\t \t normal text\n",
      " \n"
     ]
    }
   ],
   "source": [
    "print(color.RED +'red \\n', color.BLUE + '\\t blue \\n', color.END + '\\t \\t normal text\\n ')"
   ]
  },
  {
   "cell_type": "code",
   "execution_count": 142,
   "metadata": {},
   "outputs": [
    {
     "name": "stdout",
     "output_type": "stream",
     "text": [
      "\u001b[94mTwinkle, twinkle, little star, \n",
      "\tHow I wonder what you are! \n",
      "\t\tUp above the world so high, \n",
      "\t\tLike a diamond in the sky. \n",
      "Twinkle, twinkle, little star, \n",
      "\tHow I wonder what you are!\n"
     ]
    }
   ],
   "source": [
    "# code: https://www.w3resource.com/python-exercises/python-basic-exercise-1.php\n",
    "print( color.BLUE+\"Twinkle, twinkle, little star, \\n\\tHow I wonder what you are! \\n\\t\\tUp above the world so high, \\n\\t\\tLike a diamond in the sky. \\nTwinkle, twinkle, little star, \\n\\tHow I wonder what you are!\")\n"
   ]
  },
  {
   "cell_type": "markdown",
   "metadata": {},
   "source": [
    "## Fun with Functions: Alternate Case"
   ]
  },
  {
   "cell_type": "markdown",
   "metadata": {},
   "source": [
    "Alternate capital letters code:\n",
    "https://stackoverflow.com/questions/17865563/capitalise-every-other-letter-in-a-string-in-python"
   ]
  },
  {
   "cell_type": "code",
   "execution_count": 10,
   "metadata": {},
   "outputs": [
    {
     "name": "stdout",
     "output_type": "stream",
     "text": [
      "HeLlO wOrLd\n"
     ]
    }
   ],
   "source": [
    "def silly(s):\n",
    "    ret = \"\"\n",
    "    i = True  # capitalize\n",
    "    for char in s:\n",
    "        if i:\n",
    "            ret += char.upper()\n",
    "        else:\n",
    "            ret += char.lower()\n",
    "        # ignore spaces\n",
    "        if char != ' ':\n",
    "            i = not i\n",
    "    return ret\n",
    "\n",
    "print(silly(\"hello world\"))"
   ]
  },
  {
   "cell_type": "code",
   "execution_count": 11,
   "metadata": {
    "scrolled": true
   },
   "outputs": [
    {
     "name": "stdout",
     "output_type": "stream",
     "text": [
      "sarah\n",
      "SaRaH\n"
     ]
    }
   ],
   "source": [
    "x=input()\n",
    "print(silly(str(x)))"
   ]
  },
  {
   "cell_type": "markdown",
   "metadata": {},
   "source": [
    "# Centering strings & formatting with built in functions"
   ]
  },
  {
   "cell_type": "markdown",
   "metadata": {},
   "source": [
    "### str.center(width[, fillchar])\n",
    "Return centered in a string of length width. Padding is done using the specified fillchar (default is an ASCII space). The original string is returned if width is less than or equal to len(s)."
   ]
  },
  {
   "cell_type": "code",
   "execution_count": 15,
   "metadata": {},
   "outputs": [
    {
     "data": {
      "text/plain": [
       "'  sarah   '"
      ]
     },
     "execution_count": 15,
     "metadata": {},
     "output_type": "execute_result"
    }
   ],
   "source": [
    "x.center(10)"
   ]
  },
  {
   "cell_type": "code",
   "execution_count": 17,
   "metadata": {},
   "outputs": [
    {
     "data": {
      "text/plain": [
       "'                                               sarah                                                '"
      ]
     },
     "execution_count": 17,
     "metadata": {},
     "output_type": "execute_result"
    }
   ],
   "source": [
    "x.center(100)"
   ]
  },
  {
   "cell_type": "code",
   "execution_count": 24,
   "metadata": {},
   "outputs": [
    {
     "data": {
      "text/plain": [
       "'...............................................sarah................................................'"
      ]
     },
     "execution_count": 24,
     "metadata": {},
     "output_type": "execute_result"
    }
   ],
   "source": [
    "x.center(100, '.')"
   ]
  },
  {
   "cell_type": "code",
   "execution_count": 113,
   "metadata": {
    "scrolled": true
   },
   "outputs": [
    {
     "data": {
      "text/plain": [
       "'AAAAAAAAAAAAAAAAAAAAAAAAAAAAAAAAAAAAAAAAAAAAAAAsarahAAAAAAAAAAAAAAAAAAAAAAAAAAAAAAAAAAAAAAAAAAAAAAAA'"
      ]
     },
     "execution_count": 113,
     "metadata": {},
     "output_type": "execute_result"
    }
   ],
   "source": [
    "# x.center(100, 'AAAAA')\n",
    "#TypeError: The fill character must be exactly one character long\n",
    "x.center(100, 'A')"
   ]
  },
  {
   "cell_type": "code",
   "execution_count": 141,
   "metadata": {},
   "outputs": [
    {
     "name": "stdout",
     "output_type": "stream",
     "text": [
      "...................................................................................................................rjust\n",
      "\u001b[91msarahHHHHHHHHHHHHHHH\u001b[0m\n",
      "h--e--l--l--o\n"
     ]
    }
   ],
   "source": [
    "# string.rjust(length, character)\n",
    "print(\"rjust\".rjust(120, \".\"))\n",
    "\n",
    "print(color.RED+ \"sarah\".ljust(20, \"H\")+ color.END)\n",
    "\n",
    "print(\"--\".join(\"hello\"))"
   ]
  },
  {
   "cell_type": "code",
   "execution_count": 137,
   "metadata": {},
   "outputs": [
    {
     "name": "stdout",
     "output_type": "stream",
     "text": [
      "\n",
      "This Is The Title Of A Book Etc.\n",
      "\n",
      "\n"
     ]
    }
   ],
   "source": [
    "txt = '''\n",
    "this is the title of a book etc.\n",
    "\n",
    "'''\n",
    "\n",
    "x = txt.title()\n",
    "\n",
    "print(x)"
   ]
  },
  {
   "cell_type": "markdown",
   "metadata": {},
   "source": [
    "Replace all letters with another letter using translate or maketranslate"
   ]
  },
  {
   "cell_type": "code",
   "execution_count": 117,
   "metadata": {},
   "outputs": [
    {
     "name": "stdout",
     "output_type": "stream",
     "text": [
      "Hello Pam!\n",
      "Hello Pam!\n",
      "Hi Joe!\n"
     ]
    }
   ],
   "source": [
    "#use a dictionary with ascii codes to replace 83 (S) with 80 (P):\n",
    "# link: https://www.w3schools.com/python/ref_string_translate.asp\n",
    "mydict = {83:  80}\n",
    "\n",
    "txt = \"Hello Sam!\"\n",
    "\n",
    "print(txt.translate(mydict))\n",
    "\n",
    "txt = \"Hello Sam!\"\n",
    "mytable = txt.maketrans(\"S\", \"P\")\n",
    "print(txt.translate(mytable))\n",
    "txt = \"Hi Sam!\"\n",
    "x = \"mSa\"\n",
    "y = \"eJo\"\n",
    "mytable = txt.maketrans(x, y)\n",
    "print(txt.translate(mytable))"
   ]
  },
  {
   "cell_type": "markdown",
   "metadata": {},
   "source": [
    "## Fun with functions: getting the syllabi in words"
   ]
  },
  {
   "cell_type": "code",
   "execution_count": 37,
   "metadata": {},
   "outputs": [],
   "source": [
    "#code: https://stackoverflow.com/questions/46759492/syllable-count-in-python\n",
    "#this code is not perfect but it'll do\n",
    "def syllable_count(word):\n",
    "    word = word.lower()\n",
    "    count = 0\n",
    "    vowels = \"aeiouy\"\n",
    "    if word[0] in vowels:\n",
    "        count += 1\n",
    "    for index in range(1, len(word)):\n",
    "        if word[index] in vowels and word[index - 1] not in vowels:\n",
    "            count += 1\n",
    "    if word.endswith(\"e\"):\n",
    "        count -= 1\n",
    "    if count == 0:\n",
    "        count += 1\n",
    "    return count"
   ]
  },
  {
   "cell_type": "code",
   "execution_count": 38,
   "metadata": {},
   "outputs": [
    {
     "name": "stdout",
     "output_type": "stream",
     "text": [
      "shimmer\n"
     ]
    },
    {
     "data": {
      "text/plain": [
       "2"
      ]
     },
     "execution_count": 38,
     "metadata": {},
     "output_type": "execute_result"
    }
   ],
   "source": [
    "temp_word= input()\n",
    "syllable_count(temp_word)"
   ]
  },
  {
   "cell_type": "markdown",
   "metadata": {},
   "source": [
    "# Using your custom data in a string"
   ]
  },
  {
   "cell_type": "markdown",
   "metadata": {},
   "source": [
    "* Say you want to be able to enter your name and have the poem be about you? or might want to change a place/ character later? Or just want some custom data?\n",
    "\n",
    "  There are a couple ways to do this. No matter how you do it, someone will tell you you're wrong. _Ignore them_ . For the sake of my sanity we're only briefly going over a few ways to do this. but if you want to know more you can take a look here:\n",
    "* https://realpython.com/python-f-strings/"
   ]
  },
  {
   "cell_type": "markdown",
   "metadata": {},
   "source": [
    "<div>str.format(*args, **kwargs) </div>\n",
    "Python docs says this: \n",
    "  \n",
    "Perform a string formatting operation. The string on which this method is called can contain literal text or replacement fields delimited by braces {}. Each replacement field contains either the numeric index of a positional argument, or the name of a keyword argument. Returns a copy of the string where each replacement field is replaced with the string value of the corresponding argument."
   ]
  },
  {
   "cell_type": "code",
   "execution_count": 30,
   "metadata": {},
   "outputs": [
    {
     "data": {
      "text/plain": [
       "'My name is sarah'"
      ]
     },
     "execution_count": 30,
     "metadata": {},
     "output_type": "execute_result"
    }
   ],
   "source": [
    "\"My name is {0}\".format(x)"
   ]
  },
  {
   "cell_type": "code",
   "execution_count": 71,
   "metadata": {},
   "outputs": [
    {
     "name": "stdout",
     "output_type": "stream",
     "text": [
      "Enter Number: 5\n",
      "+ 1\n"
     ]
    },
    {
     "data": {
      "text/plain": [
       "'The sum of 5 + 1 is 6'"
      ]
     },
     "execution_count": 71,
     "metadata": {},
     "output_type": "execute_result"
    }
   ],
   "source": [
    "def sum_example(a,b):\n",
    "    c=a+b\n",
    "\n",
    "    return c\n",
    "# input(prompt)\n",
    "input_1= input(\"Enter Number: \")\n",
    "input_2= input(\"+ \")\n",
    "\n",
    "    \n",
    "\"The sum of {a} + {b} is {c}\".format(a=input_1, b=input_2, c=sum_example(int(input_1),int(input_2)))"
   ]
  },
  {
   "cell_type": "markdown",
   "metadata": {},
   "source": [
    "Technically it likes it when you define the variables but you can just give it a list. "
   ]
  },
  {
   "cell_type": "code",
   "execution_count": 69,
   "metadata": {},
   "outputs": [
    {
     "data": {
      "text/plain": [
       "'The sum of 2 + 44 is 55'"
      ]
     },
     "execution_count": 69,
     "metadata": {},
     "output_type": "execute_result"
    }
   ],
   "source": [
    "\"The sum of {0} + {1} is {2}\".format(2,44,55)"
   ]
  },
  {
   "cell_type": "markdown",
   "metadata": {},
   "source": [
    "This is not a great idea if you have a long sentence etc but it's okay in. a pinch. "
   ]
  },
  {
   "cell_type": "markdown",
   "metadata": {},
   "source": [
    "### str.format_map(mapping)\n",
    "Similar to str.format(**mapping), except that mapping is used directly and not copied to a dict. This is useful if for example mapping is a dict subclass:"
   ]
  },
  {
   "cell_type": "code",
   "execution_count": 38,
   "metadata": {},
   "outputs": [
    {
     "data": {
      "text/plain": [
       "'Anakin Skywalker is also known as Darth Vader'"
      ]
     },
     "execution_count": 38,
     "metadata": {},
     "output_type": "execute_result"
    }
   ],
   "source": [
    "wiki_info = {'name': 'Anakin Skywalker','alias': 'Darth Vader'}\n",
    "'{name} is also known as {alias}'.format_map(wiki_info)"
   ]
  },
  {
   "cell_type": "code",
   "execution_count": 34,
   "metadata": {},
   "outputs": [
    {
     "data": {
      "text/plain": [
       "'Anakin Skywalker is also known as Darth Vader'"
      ]
     },
     "execution_count": 34,
     "metadata": {},
     "output_type": "execute_result"
    }
   ],
   "source": [
    "class Default(dict):\n",
    "    def __missing__(self, key):\n",
    "        return key\n",
    "'{name} is also known as {alias}'.format_map(Default(name = 'Anakin Skywalker', alias = 'Darth Vader'))"
   ]
  },
  {
   "cell_type": "code",
   "execution_count": 33,
   "metadata": {
    "scrolled": true
   },
   "outputs": [
    {
     "data": {
      "text/plain": [
       "'Guido was born in country'"
      ]
     },
     "execution_count": 33,
     "metadata": {},
     "output_type": "execute_result"
    }
   ],
   "source": [
    "\n",
    "\n",
    "'{name} was born in {country}'.format_map(Default(name='Guido'))\n"
   ]
  },
  {
   "cell_type": "markdown",
   "metadata": {},
   "source": [
    "## F strings\n",
    "* f strings are probably one of the best way to do this, The syntax is as follows:\n",
    "#### f' text goes here, insert {variable}'\n",
    "\n",
    "Basically it's similar to saying:\n",
    "  **print(\"text goes here, insert \" + variable)**\n",
    "but easier, deals with a bunch of variables, and it's faster to type"
   ]
  },
  {
   "cell_type": "markdown",
   "metadata": {},
   "source": [
    "### Let's try dealing with some longer text,\n",
    "*  It's some text describing Amos from the Expanse, you can find it here: https://expanse.fandom.com/wiki/Amos_Burton_(TV)"
   ]
  },
  {
   "cell_type": "code",
   "execution_count": null,
   "metadata": {},
   "outputs": [],
   "source": [
    "sample_text = '''\n",
    "Amos is a male with brown hair that he keeps short. \n",
    "Earlier in the show, his hair is buzzed very short but he grows it out a bit more as time goes on, along with his five-o-clock shadow.\n",
    "He has a solid, angular jaw and his eyes are brown.\n",
    "\n",
    "Amos is of average height, but beyond average in build.\n",
    "'''"
   ]
  },
  {
   "cell_type": "markdown",
   "metadata": {},
   "source": [
    "# Project : 1\n",
    "## character creator"
   ]
  },
  {
   "cell_type": "markdown",
   "metadata": {},
   "source": [
    "Say you're making a character generator and so you want to:\n",
    "* rename Amos, \n",
    "* change his eye color,\n",
    "* change his pronouns\n",
    "* change eye color,\n",
    "* hair color\n",
    "* his build\n",
    "* his height"
   ]
  },
  {
   "cell_type": "markdown",
   "metadata": {},
   "source": [
    "Well, let's see:\n",
    "I need someone to **input anything they want for the name**"
   ]
  },
  {
   "cell_type": "code",
   "execution_count": 72,
   "metadata": {},
   "outputs": [
    {
     "name": "stdout",
     "output_type": "stream",
     "text": [
      "Name the Character: Julie\n"
     ]
    },
    {
     "data": {
      "text/plain": [
       "'Julie is a male with brown hair that he keeps short.'"
      ]
     },
     "execution_count": 72,
     "metadata": {},
     "output_type": "execute_result"
    }
   ],
   "source": [
    "new_name=input(\"Name the Character: \")\n",
    "f\"{new_name} is a male with brown hair that he keeps short.\""
   ]
  },
  {
   "cell_type": "markdown",
   "metadata": {},
   "source": [
    "What about hair color? Let's give people some choices between..\n",
    "* Blond\n",
    "* brown\n",
    "* black\n",
    "* red \n",
    "* auburn\n",
    "* white\n",
    "\n",
    "And maybe some noon-natural colors for fun:\n",
    "* teal\n",
    "* blue\n",
    "* neon green\n",
    "* dark purple"
   ]
  },
  {
   "cell_type": "markdown",
   "metadata": {},
   "source": [
    "But how do I let people select colors? HMM lets put these into a dict"
   ]
  },
  {
   "cell_type": "code",
   "execution_count": 83,
   "metadata": {},
   "outputs": [
    {
     "name": "stdout",
     "output_type": "stream",
     "text": [
      "blond\n",
      "1: blond\n",
      "2: brown\n",
      "3: black\n",
      "4: red \n",
      "5: auburn\n",
      "6: white\n",
      "7: teal\n",
      "8: teal\n",
      "9: blue\n",
      "10: blue\n",
      "11: neon green\n",
      "12: dark purple\n"
     ]
    }
   ],
   "source": [
    "hair_options= {1: \"blond\", 2: \"brown\", 3: \"black\", 4: \"red \", 5: \"auburn\", 6: \"white\", 7: \"teal\", 8: \"teal\",  9: \"blue\", 10: \"blue\", 11: \"neon green\", 12: \"dark purple\"}\n",
    "## aaand let's print that dict\n",
    "print(hair_options[1])\n",
    "# word for (word, pos) in nltk.pos_tag(tokenized)\n",
    "for key, value in hair_options.items():\n",
    "    print(f\"{key}: {value}\")\n"
   ]
  },
  {
   "cell_type": "code",
   "execution_count": 86,
   "metadata": {},
   "outputs": [
    {
     "name": "stdout",
     "output_type": "stream",
     "text": [
      "hair color: 10\n"
     ]
    },
    {
     "data": {
      "text/plain": [
       "'Julie is a male with blue hair that he keeps short.'"
      ]
     },
     "execution_count": 86,
     "metadata": {},
     "output_type": "execute_result"
    }
   ],
   "source": [
    "new_hair=input(\"hair color: \")\n",
    "new_hair=hair_options[int(new_hair)]\n",
    "f\"{new_name} is a male with {new_hair} hair that he keeps short.\""
   ]
  },
  {
   "cell_type": "markdown",
   "metadata": {},
   "source": [
    "Let's change the pronouns too, give the options:\n",
    "* he/him/his/his\n",
    "* she/her/her/hers\n",
    "* they/them/thier/thiers\n",
    "\n",
    "So I want options like:\n",
    "* <div>1: [he,him,his,his] </div>\n",
    "* <div>2: [she/her/her/hers]</div>\n",
    "* <div>3: [they/them/thier/thiers]</div>\n"
   ]
  },
  {
   "cell_type": "code",
   "execution_count": 97,
   "metadata": {},
   "outputs": [
    {
     "name": "stdout",
     "output_type": "stream",
     "text": [
      "['he', 'him', 'his', 'his', 'male']\n",
      "his\n"
     ]
    }
   ],
   "source": [
    "pronoun_options = {1: [\"he\",\"him\",\"his\",\"his\", \"male\"], 2: [\"she\", \"her\", \"her\", \"hers\", \"female\"],3: [\"they\", \"them\", \"thier\", \"thiers\", \"person\"]}\n",
    "print(pronoun_options[1])\n",
    "print(pronoun_options[1][2])"
   ]
  },
  {
   "cell_type": "code",
   "execution_count": 109,
   "metadata": {},
   "outputs": [
    {
     "name": "stdout",
     "output_type": "stream",
     "text": [
      "pronouns: 2\n"
     ]
    },
    {
     "data": {
      "text/plain": [
       "'Julie is a female with blue hair that she keeps short.'"
      ]
     },
     "execution_count": 109,
     "metadata": {},
     "output_type": "execute_result"
    }
   ],
   "source": [
    "new_pronoun_choice=input(\"pronouns: \")\n",
    "new_pronoun_choice=pronoun_options[int(new_pronoun_choice)]\n",
    "f\"{new_name} is a {new_pronoun_choice[-1]} with {new_hair} hair that {new_pronoun_choice[0]} keeps short.\""
   ]
  },
  {
   "cell_type": "markdown",
   "metadata": {},
   "source": [
    "## Now that we have the basics, let's try putting this all in a function!"
   ]
  },
  {
   "cell_type": "markdown",
   "metadata": {},
   "source": [
    "<div>\n",
    "{new_name} is a {new_pronoun_choice[-1]} with {new_hair} hair that {new_pronoun_choice[0]} keeps short. Earlier in the show, {new_pronoun_choice[2]} hair is buzzed very short but he grows it out a bit more as time goes on, along with {new_pronoun_choice[2]} five-o-clock shadow. {new_pronoun_choice[0]} has a solid, angular jaw and {new_pronoun_choice[2]} eyes are {new_eyecolor}.\n",
    "\n",
    "{new_name} is of {new_height} height, and {new_build} build. {new_pronoun_choice[0]} is very muscular and solidly built, being strong even for an Earther which gives him an advantage in hand-to-hand as {new_pronoun_choice[0]} can pummel the living daylights out of anyone who tries fisticuffs with {new_pronoun_choice[1]}, such as when {new_pronoun_choice[0]} easily overpowers Miller when the detective took a swing at {new_pronoun_choice[1]}.\n",
    "    </div>"
   ]
  },
  {
   "cell_type": "code",
   "execution_count": 112,
   "metadata": {},
   "outputs": [
    {
     "name": "stdout",
     "output_type": "stream",
     "text": [
      "Name the Character: name\n",
      "Eye color options\n",
      " key: value\n",
      "1: blond\n",
      "2: brown\n",
      "3: black\n",
      "4: red \n",
      "5: auburn\n",
      "6: white\n",
      "7: teal\n",
      "8: teal\n",
      "9: blue\n",
      "10: blue\n",
      "11: neon green\n",
      "12: dark purple\n",
      "eye color key: 10\n",
      "1: ['he', 'him', 'his', 'his', 'male']\n",
      "2: ['she', 'her', 'her', 'hers', 'female']\n",
      "3: ['they', 'them', 'thier', 'thiers', 'person']\n",
      "pronouns: 2\n",
      "hair color options\n",
      " key: value\n",
      "1: blond\n",
      "2: brown\n",
      "3: black\n",
      "4: red \n",
      "5: auburn\n",
      "6: white\n",
      "7: teal\n",
      "8: teal\n",
      "9: blue\n",
      "10: blue\n",
      "11: neon green\n",
      "12: dark purple\n",
      "hair color key: 12\n",
      "['slim', 'average', 'above average']\n",
      "build key: 0\n",
      "['slim', 'average', 'above average']\n",
      "height key: 0\n",
      "Congrats! all conditions satisfied!\n"
     ]
    },
    {
     "data": {
      "text/plain": [
       "'name is a female with dark purple hair that she keeps short. Earlier in the show, her hair is buzzed very short but he grows it out a bit more as time goes on, along with her five-o-clock shadow. she has a solid, angular jaw and her eyes are blue. name is of short height, and slim build. she is very muscular and solidly built, being strong even for an Earther which gives him an advantage in hand-to-hand as she can pummel the living daylights out of anyone who tries fisticuffs with her, such as when she easily overpowers Miller when the detective took a swing at her.\\n    '"
      ]
     },
     "execution_count": 112,
     "metadata": {},
     "output_type": "execute_result"
    }
   ],
   "source": [
    "def create_char():\n",
    "    # choice optioons:\n",
    "    hair_options= {1: \"blond\", 2: \"brown\", 3: \"black\", 4: \"red \", 5: \"auburn\", 6: \"white\", 7: \"teal\", 8: \"teal\",  9: \"blue\", 10: \"blue\", 11: \"neon green\", 12: \"dark purple\"}\n",
    "    pronoun_options = {1: [\"he\",\"him\",\"his\",\"his\", \"male\"], 2: [\"she\", \"her\", \"her\", \"hers\", \"female\"],3: [\"they\", \"them\", \"thier\", \"thiers\", \"person\"]}\n",
    "    build_options = [\"slim\", \"average\", \"above average\"]\n",
    "    height_options = [\"short\", \"average\", \"tall\"]\n",
    "\n",
    "\n",
    "    # rename Amos,\n",
    "    new_name=input(\"Name the Character: \")\n",
    "    \n",
    "    # eye color,\n",
    "    print(\"Eye color options\"+\"\\n key: value\")\n",
    "    for key, value in hair_options.items():\n",
    "        print(f\"{key}: {value}\")\n",
    "    new_eyecolor=input(\"eye color key: \")\n",
    "    new_eyecolor=hair_options[int(new_eyecolor)]\n",
    "    \n",
    "    #  pronouns\n",
    "    for key, value in pronoun_options.items():\n",
    "        print(f\"{key}: {value}\")\n",
    "    new_pronoun_choice=input(\"pronouns: \")\n",
    "    new_pronoun_choice=pronoun_options[int(new_pronoun_choice)]\n",
    "    \n",
    "    # hair color?\n",
    "    print(\"hair color options\"+\"\\n key: value\")\n",
    "    for key, value in hair_options.items():\n",
    "        print(f\"{key}: {value}\")\n",
    "    new_hair=input(\"hair color key: \")\n",
    "    new_hair=hair_options[int(new_hair)]\n",
    "    \n",
    "    # build?\n",
    "    print(build_options)\n",
    "    new_build=input(\"build key: \")\n",
    "    new_build=build_options[int(new_build)]\n",
    "    \n",
    "    # height\n",
    "    print(build_options)\n",
    "    new_height=input(\"height key: \")\n",
    "    new_height=height_options[int(new_height)]\n",
    "    print(\"Congrats! all conditions satisfied!\")\n",
    "    \n",
    "    return f'''{new_name} is a {new_pronoun_choice[-1]} with {new_hair} hair that {new_pronoun_choice[0]} keeps short. Earlier in the show, {new_pronoun_choice[2]} hair is buzzed very short but he grows it out a bit more as time goes on, along with {new_pronoun_choice[2]} five-o-clock shadow. {new_pronoun_choice[0]} has a solid, angular jaw and {new_pronoun_choice[2]} eyes are {new_eyecolor}. {new_name} is of {new_height} height, and {new_build} build. {new_pronoun_choice[0]} is very muscular and solidly built, being strong even for an Earther which gives him an advantage in hand-to-hand as {new_pronoun_choice[0]} can pummel the living daylights out of anyone who tries fisticuffs with {new_pronoun_choice[1]}, such as when {new_pronoun_choice[0]} easily overpowers Miller when the detective took a swing at {new_pronoun_choice[1]}.'''\n",
    "    \n",
    "    ## call the inputs\n",
    "    \n",
    "create_char()\n",
    "    "
   ]
  },
  {
   "cell_type": "markdown",
   "metadata": {},
   "source": [
    "Of course this isn't perfect, regardless of your choices a lot of the non-custom text is male, but you get the idea"
   ]
  },
  {
   "cell_type": "code",
   "execution_count": 170,
   "metadata": {},
   "outputs": [],
   "source": [
    "# https://rosettacode.org/wiki/Reverse_the_gender_of_a_string#Python"
   ]
  },
  {
   "cell_type": "markdown",
   "metadata": {},
   "source": [
    "## Project 2: Using NLTK to find words in a text\n"
   ]
  },
  {
   "cell_type": "markdown",
   "metadata": {},
   "source": [
    "## step 1: define the text\n",
    "In this case we will use a classic, the song of my people : Twilight. "
   ]
  },
  {
   "cell_type": "code",
   "execution_count": 9,
   "metadata": {},
   "outputs": [],
   "source": [
    "## source: https://archive.org/stream/StephenieMeyer1.Twilight/Stephenie%20Meyer%201.%20Twilight_djvu.txt\n",
    "text = '''\n",
    "Edward Cullen didn't come back to school. \n",
    "\n",
    "Every day, I watched anxiously until the rest of the Cullens entered the cafeteria without him. Then I could relax and join in the lunchtime conversation. Mostly it centered around a trip to the La Push Ocean \n",
    "Park in two weeks that Mike was putting together. I was invited, and I had agreed to go, more out of \n",
    "politeness than desire. Beaches should be hot and dry. \n",
    "\n",
    "By Friday I was perfectly comfortable entering my Biology class, no longer worried that Edward would \n",
    "be there. For all I knew, he had dropped out of school. I tried not to think about him, but I couldn't \n",
    "totally suppress the worry that I was responsible for his continued absence, ridiculous as it seemed. \n",
    "\n",
    "My first weekend in Forks passed without incident. Charlie, unused to spending time in the usually empty \n",
    "house, worked most of the weekend. I cleaned the house, got ahead on my homework, and wrote my \n",
    "mom more bogusly cheerful e-mail. I did drive to the library Saturday, but it was so poorly stocked that I \n",
    "didn't bother to get a card; I would have to make a date to visit Olympia or Seattle soon and find a good \n",
    "bookstore. I wondered idly what kind of gas mileage the truck got. . . and shuddered at the thought. \n",
    "\n",
    "The rain stayed soft over the weekend, quiet, so I was able to sleep well. \n",
    "\n",
    "People greeted me in the parking lot Monday morning. I didn't know all their names, but I waved back \n",
    "and smiled at everyone. It was colder this morning, but happily not raining. In English, Mike took his \n",
    "accustomed seat by my side. We had a pop quiz on Wuthering Heights. It was straightforward, very \n",
    "easy. \n",
    "\n",
    "'''"
   ]
  },
  {
   "cell_type": "code",
   "execution_count": 28,
   "metadata": {},
   "outputs": [],
   "source": [
    "##import natural language tool kit\n",
    "import nltk"
   ]
  },
  {
   "cell_type": "code",
   "execution_count": 11,
   "metadata": {},
   "outputs": [
    {
     "name": "stdout",
     "output_type": "stream",
     "text": [
      "$: dollar\n",
      "    $ -$ --$ A$ C$ HK$ M$ NZ$ S$ U.S.$ US$\n",
      "'': closing quotation mark\n",
      "    ' ''\n",
      "(: opening parenthesis\n",
      "    ( [ {\n",
      "): closing parenthesis\n",
      "    ) ] }\n",
      ",: comma\n",
      "    ,\n",
      "--: dash\n",
      "    --\n",
      ".: sentence terminator\n",
      "    . ! ?\n",
      ":: colon or ellipsis\n",
      "    : ; ...\n",
      "CC: conjunction, coordinating\n",
      "    & 'n and both but either et for less minus neither nor or plus so\n",
      "    therefore times v. versus vs. whether yet\n",
      "CD: numeral, cardinal\n",
      "    mid-1890 nine-thirty forty-two one-tenth ten million 0.5 one forty-\n",
      "    seven 1987 twenty '79 zero two 78-degrees eighty-four IX '60s .025\n",
      "    fifteen 271,124 dozen quintillion DM2,000 ...\n",
      "DT: determiner\n",
      "    all an another any both del each either every half la many much nary\n",
      "    neither no some such that the them these this those\n",
      "EX: existential there\n",
      "    there\n",
      "FW: foreign word\n",
      "    gemeinschaft hund ich jeux habeas Haementeria Herr K'ang-si vous\n",
      "    lutihaw alai je jour objets salutaris fille quibusdam pas trop Monte\n",
      "    terram fiche oui corporis ...\n",
      "IN: preposition or conjunction, subordinating\n",
      "    astride among uppon whether out inside pro despite on by throughout\n",
      "    below within for towards near behind atop around if like until below\n",
      "    next into if beside ...\n",
      "JJ: adjective or numeral, ordinal\n",
      "    third ill-mannered pre-war regrettable oiled calamitous first separable\n",
      "    ectoplasmic battery-powered participatory fourth still-to-be-named\n",
      "    multilingual multi-disciplinary ...\n",
      "JJR: adjective, comparative\n",
      "    bleaker braver breezier briefer brighter brisker broader bumper busier\n",
      "    calmer cheaper choosier cleaner clearer closer colder commoner costlier\n",
      "    cozier creamier crunchier cuter ...\n",
      "JJS: adjective, superlative\n",
      "    calmest cheapest choicest classiest cleanest clearest closest commonest\n",
      "    corniest costliest crassest creepiest crudest cutest darkest deadliest\n",
      "    dearest deepest densest dinkiest ...\n",
      "LS: list item marker\n",
      "    A A. B B. C C. D E F First G H I J K One SP-44001 SP-44002 SP-44005\n",
      "    SP-44007 Second Third Three Two * a b c d first five four one six three\n",
      "    two\n",
      "MD: modal auxiliary\n",
      "    can cannot could couldn't dare may might must need ought shall should\n",
      "    shouldn't will would\n",
      "NN: noun, common, singular or mass\n",
      "    common-carrier cabbage knuckle-duster Casino afghan shed thermostat\n",
      "    investment slide humour falloff slick wind hyena override subhumanity\n",
      "    machinist ...\n",
      "NNP: noun, proper, singular\n",
      "    Motown Venneboerger Czestochwa Ranzer Conchita Trumplane Christos\n",
      "    Oceanside Escobar Kreisler Sawyer Cougar Yvette Ervin ODI Darryl CTCA\n",
      "    Shannon A.K.C. Meltex Liverpool ...\n",
      "NNPS: noun, proper, plural\n",
      "    Americans Americas Amharas Amityvilles Amusements Anarcho-Syndicalists\n",
      "    Andalusians Andes Andruses Angels Animals Anthony Antilles Antiques\n",
      "    Apache Apaches Apocrypha ...\n",
      "NNS: noun, common, plural\n",
      "    undergraduates scotches bric-a-brac products bodyguards facets coasts\n",
      "    divestitures storehouses designs clubs fragrances averages\n",
      "    subjectivists apprehensions muses factory-jobs ...\n",
      "PDT: pre-determiner\n",
      "    all both half many quite such sure this\n",
      "POS: genitive marker\n",
      "    ' 's\n",
      "PRP: pronoun, personal\n",
      "    hers herself him himself hisself it itself me myself one oneself ours\n",
      "    ourselves ownself self she thee theirs them themselves they thou thy us\n",
      "PRP$: pronoun, possessive\n",
      "    her his mine my our ours their thy your\n",
      "RB: adverb\n",
      "    occasionally unabatingly maddeningly adventurously professedly\n",
      "    stirringly prominently technologically magisterially predominately\n",
      "    swiftly fiscally pitilessly ...\n",
      "RBR: adverb, comparative\n",
      "    further gloomier grander graver greater grimmer harder harsher\n",
      "    healthier heavier higher however larger later leaner lengthier less-\n",
      "    perfectly lesser lonelier longer louder lower more ...\n",
      "RBS: adverb, superlative\n",
      "    best biggest bluntest earliest farthest first furthest hardest\n",
      "    heartiest highest largest least less most nearest second tightest worst\n",
      "RP: particle\n",
      "    aboard about across along apart around aside at away back before behind\n",
      "    by crop down ever fast for forth from go high i.e. in into just later\n",
      "    low more off on open out over per pie raising start teeth that through\n",
      "    under unto up up-pp upon whole with you\n",
      "SYM: symbol\n",
      "    % & ' '' ''. ) ). * + ,. < = > @ A[fj] U.S U.S.S.R * ** ***\n",
      "TO: \"to\" as preposition or infinitive marker\n",
      "    to\n",
      "UH: interjection\n",
      "    Goodbye Goody Gosh Wow Jeepers Jee-sus Hubba Hey Kee-reist Oops amen\n",
      "    huh howdy uh dammit whammo shucks heck anyways whodunnit honey golly\n",
      "    man baby diddle hush sonuvabitch ...\n",
      "VB: verb, base form\n",
      "    ask assemble assess assign assume atone attention avoid bake balkanize\n",
      "    bank begin behold believe bend benefit bevel beware bless boil bomb\n",
      "    boost brace break bring broil brush build ...\n",
      "VBD: verb, past tense\n",
      "    dipped pleaded swiped regummed soaked tidied convened halted registered\n",
      "    cushioned exacted snubbed strode aimed adopted belied figgered\n",
      "    speculated wore appreciated contemplated ...\n",
      "VBG: verb, present participle or gerund\n",
      "    telegraphing stirring focusing angering judging stalling lactating\n",
      "    hankerin' alleging veering capping approaching traveling besieging\n",
      "    encrypting interrupting erasing wincing ...\n",
      "VBN: verb, past participle\n",
      "    multihulled dilapidated aerosolized chaired languished panelized used\n",
      "    experimented flourished imitated reunifed factored condensed sheared\n",
      "    unsettled primed dubbed desired ...\n",
      "VBP: verb, present tense, not 3rd person singular\n",
      "    predominate wrap resort sue twist spill cure lengthen brush terminate\n",
      "    appear tend stray glisten obtain comprise detest tease attract\n",
      "    emphasize mold postpone sever return wag ...\n",
      "VBZ: verb, present tense, 3rd person singular\n",
      "    bases reconstructs marks mixes displeases seals carps weaves snatches\n",
      "    slumps stretches authorizes smolders pictures emerges stockpiles\n",
      "    seduces fizzes uses bolsters slaps speaks pleads ...\n",
      "WDT: WH-determiner\n",
      "    that what whatever which whichever\n",
      "WP: WH-pronoun\n",
      "    that what whatever whatsoever which who whom whosoever\n",
      "WP$: WH-pronoun, possessive\n",
      "    whose\n",
      "WRB: Wh-adverb\n",
      "    how however whence whenever where whereby whereever wherein whereof why\n",
      "``: opening quotation mark\n",
      "    ` ``\n"
     ]
    }
   ],
   "source": [
    "nltk.help.upenn_tagset()"
   ]
  },
  {
   "cell_type": "markdown",
   "metadata": {},
   "source": [
    "Let's get a list of tags, sorted by frequency"
   ]
  },
  {
   "cell_type": "code",
   "execution_count": 12,
   "metadata": {
    "scrolled": true
   },
   "outputs": [
    {
     "data": {
      "text/plain": [
       "[('NN', 40),\n",
       " ('VBD', 37),\n",
       " ('IN', 33),\n",
       " ('RB', 27),\n",
       " ('PRP', 27),\n",
       " ('.', 24),\n",
       " ('DT', 24),\n",
       " ('NNP', 22),\n",
       " (',', 18),\n",
       " ('VB', 17),\n",
       " ('JJ', 17),\n",
       " ('CC', 12),\n",
       " ('TO', 10),\n",
       " ('PRP$', 7),\n",
       " ('MD', 5),\n",
       " ('NNS', 4),\n",
       " ('VBG', 4),\n",
       " ('VBN', 3),\n",
       " ('RBR', 3),\n",
       " ('RP', 1),\n",
       " ('CD', 1),\n",
       " ('JJR', 1),\n",
       " ('JJS', 1),\n",
       " (':', 1),\n",
       " ('WP', 1)]"
      ]
     },
     "execution_count": 12,
     "metadata": {},
     "output_type": "execute_result"
    }
   ],
   "source": [
    "# code: https://stackoverflow.com/questions/20960777/python-how-to-count-pos-tags-from-from-a-sentence\n",
    "from nltk.tag import pos_tag\n",
    "from nltk.tokenize import word_tokenize\n",
    "# sent = \"This is a foo bar sentence.\"\n",
    "pos_tag(word_tokenize(text))\n",
    "from collections import Counter\n",
    "x = Counter([j for i,j in pos_tag(word_tokenize(text))])\n",
    "# code: https://stackoverflow.com/questions/20950650/how-to-sort-counter-by-value-python\n",
    "x.most_common()\n",
    "# Counter({'NN': 3, 'DT': 2, 'VBZ': 1, '.': 1})"
   ]
  },
  {
   "cell_type": "code",
   "execution_count": 16,
   "metadata": {
    "scrolled": true
   },
   "outputs": [
    {
     "name": "stdout",
     "output_type": "stream",
     "text": [
      "Edward 2\n",
      "Cullen 2\n",
      "didn 1\n",
      "t 1\n",
      "come 1\n",
      "back 1\n",
      "to 1\n",
      "school 1\n",
      "Every 3\n",
      "day 1\n",
      "I 1\n",
      "watched 2\n",
      "anxiously 3\n",
      "until 2\n",
      "the 1\n",
      "rest 1\n",
      "of 1\n",
      "the 1\n",
      "Cullens 2\n",
      "entered 3\n",
      "the 1\n",
      "cafeteria 4\n",
      "without 2\n",
      "him 1\n",
      "Then 1\n",
      "I 1\n",
      "could 1\n",
      "relax 2\n",
      "and 1\n",
      "join 1\n",
      "in 1\n",
      "the 1\n",
      "lunchtime 2\n",
      "conversation 4\n",
      "Mostly 2\n",
      "it 1\n",
      "centered 3\n",
      "around 2\n",
      "a 1\n",
      "trip 1\n",
      "to 1\n",
      "the 1\n",
      "La 1\n",
      "Push 1\n",
      "Ocean 2\n",
      "Park 1\n",
      "in 1\n",
      "two 1\n",
      "weeks 1\n",
      "that 1\n",
      "Mike 1\n",
      "was 1\n",
      "putting 2\n",
      "together 3\n",
      "I 1\n",
      "was 1\n",
      "invited 3\n",
      "and 1\n",
      "I 1\n",
      "had 1\n",
      "agreed 2\n",
      "to 1\n",
      "go 1\n",
      "more 1\n",
      "out 1\n",
      "of 1\n",
      "politeness 4\n",
      "than 1\n",
      "desire 2\n",
      "Beaches 2\n",
      "should 1\n",
      "be 1\n",
      "hot 1\n",
      "and 1\n",
      "dry 1\n",
      "By 1\n",
      "Friday 2\n",
      "I 1\n",
      "was 1\n",
      "perfectly 3\n",
      "comfortable 3\n",
      "entering 3\n",
      "my 1\n",
      "Biology 3\n",
      "class 1\n",
      "no 1\n",
      "longer 2\n",
      "worried 2\n",
      "that 1\n",
      "Edward 2\n",
      "would 1\n",
      "be 1\n",
      "there 1\n",
      "For 1\n",
      "all 1\n",
      "I 1\n",
      "knew 1\n",
      "he 1\n",
      "had 1\n",
      "dropped 2\n",
      "out 1\n",
      "of 1\n",
      "school 1\n",
      "I 1\n",
      "tried 1\n",
      "not 1\n",
      "to 1\n",
      "think 1\n",
      "about 2\n",
      "him 1\n",
      "but 1\n",
      "I 1\n",
      "couldn 1\n",
      "t 1\n",
      "totally 3\n",
      "suppress 2\n",
      "the 1\n",
      "worry 2\n",
      "that 1\n",
      "I 1\n",
      "was 1\n",
      "responsible 3\n",
      "for 1\n",
      "his 1\n",
      "continued 3\n",
      "absence 2\n",
      "ridiculous 4\n",
      "as 1\n",
      "it 1\n",
      "seemed 2\n",
      "My 1\n",
      "first 1\n",
      "weekend 2\n",
      "in 1\n",
      "Forks 1\n",
      "passed 2\n",
      "without 2\n",
      "incident 3\n",
      "Charlie 1\n",
      "unused 3\n",
      "to 1\n",
      "spending 2\n",
      "time 1\n",
      "in 1\n",
      "the 1\n",
      "usually 3\n",
      "empty 2\n",
      "house 1\n",
      "worked 2\n",
      "most 1\n",
      "of 1\n",
      "the 1\n",
      "weekend 2\n",
      "I 1\n",
      "cleaned 2\n",
      "the 1\n",
      "house 1\n",
      "got 1\n",
      "ahead 2\n",
      "on 1\n",
      "my 1\n",
      "homework 3\n",
      "and 1\n",
      "wrote 1\n",
      "my 1\n",
      "mom 1\n",
      "more 1\n",
      "bogusly 3\n",
      "cheerful 2\n",
      "e 1\n",
      "mail 1\n",
      "I 1\n",
      "did 1\n",
      "drive 1\n",
      "to 1\n",
      "the 1\n",
      "library 3\n",
      "Saturday 3\n",
      "but 1\n",
      "it 1\n",
      "was 1\n",
      "so 1\n",
      "poorly 2\n",
      "stocked 2\n",
      "that 1\n",
      "I 1\n",
      "didn 1\n",
      "t 1\n",
      "bother 2\n",
      "to 1\n",
      "get 1\n",
      "a 1\n",
      "card 1\n",
      "I 1\n",
      "would 1\n",
      "have 1\n",
      "to 1\n",
      "make 1\n",
      "a 1\n",
      "date 1\n",
      "to 1\n",
      "visit 2\n",
      "Olympia 3\n",
      "or 1\n",
      "Seattle 1\n",
      "soon 1\n",
      "and 1\n",
      "find 1\n",
      "a 1\n",
      "good 1\n",
      "bookstore 2\n",
      "I 1\n",
      "wondered 3\n",
      "idly 2\n",
      "what 1\n",
      "kind 1\n",
      "of 1\n",
      "gas 1\n",
      "mileage 2\n",
      "the 1\n",
      "truck 1\n",
      "got 1\n",
      "and 1\n",
      "shuddered 3\n",
      "at 1\n",
      "the 1\n",
      "thought 1\n",
      "The 1\n",
      "rain 1\n",
      "stayed 1\n",
      "soft 1\n",
      "over 2\n",
      "the 1\n",
      "weekend 2\n",
      "quiet 1\n",
      "so 1\n",
      "I 1\n",
      "was 1\n",
      "able 1\n",
      "to 1\n",
      "sleep 1\n",
      "well 1\n",
      "People 1\n",
      "greeted 2\n",
      "me 1\n",
      "in 1\n",
      "the 1\n",
      "parking 2\n",
      "lot 1\n",
      "Monday 2\n",
      "morning 2\n",
      "I 1\n",
      "didn 1\n",
      "t 1\n",
      "know 1\n",
      "all 1\n",
      "their 1\n",
      "names 2\n",
      "but 1\n",
      "I 1\n",
      "waved 2\n",
      "back 1\n",
      "and 1\n",
      "smiled 2\n",
      "at 1\n",
      "everyone 3\n",
      "It 1\n",
      "was 1\n",
      "colder 2\n",
      "this 1\n",
      "morning 2\n",
      "but 1\n",
      "happily 3\n",
      "not 1\n",
      "raining 2\n",
      "In 1\n",
      "English 2\n",
      "Mike 1\n",
      "took 1\n",
      "his 1\n",
      "accustomed 4\n",
      "seat 1\n",
      "by 1\n",
      "my 1\n",
      "side 1\n",
      "We 1\n",
      "had 1\n",
      "a 1\n",
      "pop 1\n",
      "quiz 1\n",
      "on 1\n",
      "Wuthering 3\n",
      "Heights 1\n",
      "It 1\n",
      "was 1\n",
      "straightforward 3\n",
      "very 2\n",
      "easy 2\n"
     ]
    }
   ],
   "source": [
    "#sylable count\n",
    "tokenizer = nltk.RegexpTokenizer(r\"\\w+\")\n",
    "# text2 = nltk.word_tokenize(text)\n",
    "text2 = tokenizer.tokenize(text)\n",
    "result = nltk.pos_tag(text2)\n",
    "\n",
    "for i in range(0,len(result)):\n",
    "    print(result[i][0], syllable_count(result[i][0]))"
   ]
  },
  {
   "cell_type": "code",
   "execution_count": 201,
   "metadata": {},
   "outputs": [
    {
     "data": {
      "image/png": "[encoded data removed]",
      "text/plain": [
       "<Figure size 432x288 with 1 Axes>"
      ]
     },
     "metadata": {
      "needs_background": "light"
     },
     "output_type": "display_data"
    }
   ],
   "source": [
    "import matplotlib.pyplot as plt\n",
    "# ax.bar(x, height, width, bottom, align)\n",
    "plt.bar(x.keys(), x.values())\n",
    "plt.show()"
   ]
  },
  {
   "cell_type": "code",
   "execution_count": 227,
   "metadata": {},
   "outputs": [
    {
     "name": "stdout",
     "output_type": "stream",
     "text": [
      "NNP: 22\n",
      "VBD: 37\n",
      "RB: 27\n",
      "VB: 17\n",
      "TO: 10\n",
      "NN: 40\n",
      ".: 24\n",
      "DT: 24\n",
      ",: 18\n",
      "PRP: 27\n",
      "IN: 33\n",
      "MD: 5\n",
      "CC: 12\n",
      "JJ: 17\n",
      "RP: 1\n",
      "CD: 1\n",
      "NNS: 4\n",
      "VBG: 4\n",
      "VBN: 3\n",
      "JJR: 1\n",
      "PRP$: 7\n",
      "RBR: 3\n",
      "JJS: 1\n",
      ":: 1\n",
      "WP: 1\n",
      "['NNP', 'VBD', 'RB', 'VB', 'TO', 'NN', '.', 'DT', ',', 'PRP', 'IN', 'MD', 'CC', 'JJ', 'RP', 'CD', 'NNS', 'VBG', 'VBN', 'JJR', 'PRP$', 'RBR', 'JJS', ':', 'WP']\n",
      "[22, 37, 27, 17, 10, 40, 24, 24, 18, 27, 33, 5, 12, 17, 1, 1, 4, 4, 3, 1, 7, 3, 1, 1, 1]\n"
     ]
    },
    {
     "data": {
      "application/vnd.plotly.v1+json": {
       "config": {
        "plotlyServerURL": "https://plot.ly"
       },
       "data": [
        {
         "type": "bar",
         "x": [
          "NNP",
          "VBD",
          "RB",
          "VB",
          "TO",
          "NN",
          ".",
          "DT",
          ",",
          "PRP",
          "IN",
          "MD",
          "CC",
          "JJ",
          "RP",
          "CD",
          "NNS",
          "VBG",
          "VBN",
          "JJR",
          "PRP$",
          "RBR",
          "JJS",
          ":",
          "WP"
         ],
         "y": [
          22,
          37,
          27,
          17,
          10,
          40,
          24,
          24,
          18,
          27,
          33,
          5,
          12,
          17,
          1,
          1,
          4,
          4,
          3,
          1,
          7,
          3,
          1,
          1,
          1
         ]
        }
       ],
       "layout": {
        "template": {
         "data": {
          "bar": [
           {
            "error_x": {
             "color": "#2a3f5f"
            },
            "error_y": {
             "color": "#2a3f5f"
            },
            "marker": {
             "line": {
              "color": "#E5ECF6",
              "width": 0.5
             }
            },
            "type": "bar"
           }
          ],
          "barpolar": [
           {
            "marker": {
             "line": {
              "color": "#E5ECF6",
              "width": 0.5
             }
            },
            "type": "barpolar"
           }
          ],
          "carpet": [
           {
            "aaxis": {
             "endlinecolor": "#2a3f5f",
             "gridcolor": "white",
             "linecolor": "white",
             "minorgridcolor": "white",
             "startlinecolor": "#2a3f5f"
            },
            "baxis": {
             "endlinecolor": "#2a3f5f",
             "gridcolor": "white",
             "linecolor": "white",
             "minorgridcolor": "white",
             "startlinecolor": "#2a3f5f"
            },
            "type": "carpet"
           }
          ],
          "choropleth": [
           {
            "colorbar": {
             "outlinewidth": 0,
             "ticks": ""
            },
            "type": "choropleth"
           }
          ],
          "contour": [
           {
            "colorbar": {
             "outlinewidth": 0,
             "ticks": ""
            },
            "colorscale": [
             [
              0,
              "#0d0887"
             ],
             [
              0.1111111111111111,
              "#46039f"
             ],
             [
              0.2222222222222222,
              "#7201a8"
             ],
             [
              0.3333333333333333,
              "#9c179e"
             ],
             [
              0.4444444444444444,
              "#bd3786"
             ],
             [
              0.5555555555555556,
              "#d8576b"
             ],
             [
              0.6666666666666666,
              "#ed7953"
             ],
             [
              0.7777777777777778,
              "#fb9f3a"
             ],
             [
              0.8888888888888888,
              "#fdca26"
             ],
             [
              1,
              "#f0f921"
             ]
            ],
            "type": "contour"
           }
          ],
          "contourcarpet": [
           {
            "colorbar": {
             "outlinewidth": 0,
             "ticks": ""
            },
            "type": "contourcarpet"
           }
          ],
          "heatmap": [
           {
            "colorbar": {
             "outlinewidth": 0,
             "ticks": ""
            },
            "colorscale": [
             [
              0,
              "#0d0887"
             ],
             [
              0.1111111111111111,
              "#46039f"
             ],
             [
              0.2222222222222222,
              "#7201a8"
             ],
             [
              0.3333333333333333,
              "#9c179e"
             ],
             [
              0.4444444444444444,
              "#bd3786"
             ],
             [
              0.5555555555555556,
              "#d8576b"
             ],
             [
              0.6666666666666666,
              "#ed7953"
             ],
             [
              0.7777777777777778,
              "#fb9f3a"
             ],
             [
              0.8888888888888888,
              "#fdca26"
             ],
             [
              1,
              "#f0f921"
             ]
            ],
            "type": "heatmap"
           }
          ],
          "heatmapgl": [
           {
            "colorbar": {
             "outlinewidth": 0,
             "ticks": ""
            },
            "colorscale": [
             [
              0,
              "#0d0887"
             ],
             [
              0.1111111111111111,
              "#46039f"
             ],
             [
              0.2222222222222222,
              "#7201a8"
             ],
             [
              0.3333333333333333,
              "#9c179e"
             ],
             [
              0.4444444444444444,
              "#bd3786"
             ],
             [
              0.5555555555555556,
              "#d8576b"
             ],
             [
              0.6666666666666666,
              "#ed7953"
             ],
             [
              0.7777777777777778,
              "#fb9f3a"
             ],
             [
              0.8888888888888888,
              "#fdca26"
             ],
             [
              1,
              "#f0f921"
             ]
            ],
            "type": "heatmapgl"
           }
          ],
          "histogram": [
           {
            "marker": {
             "colorbar": {
              "outlinewidth": 0,
              "ticks": ""
             }
            },
            "type": "histogram"
           }
          ],
          "histogram2d": [
           {
            "colorbar": {
             "outlinewidth": 0,
             "ticks": ""
            },
            "colorscale": [
             [
              0,
              "#0d0887"
             ],
             [
              0.1111111111111111,
              "#46039f"
             ],
             [
              0.2222222222222222,
              "#7201a8"
             ],
             [
              0.3333333333333333,
              "#9c179e"
             ],
             [
              0.4444444444444444,
              "#bd3786"
             ],
             [
              0.5555555555555556,
              "#d8576b"
             ],
             [
              0.6666666666666666,
              "#ed7953"
             ],
             [
              0.7777777777777778,
              "#fb9f3a"
             ],
             [
              0.8888888888888888,
              "#fdca26"
             ],
             [
              1,
              "#f0f921"
             ]
            ],
            "type": "histogram2d"
           }
          ],
          "histogram2dcontour": [
           {
            "colorbar": {
             "outlinewidth": 0,
             "ticks": ""
            },
            "colorscale": [
             [
              0,
              "#0d0887"
             ],
             [
              0.1111111111111111,
              "#46039f"
             ],
             [
              0.2222222222222222,
              "#7201a8"
             ],
             [
              0.3333333333333333,
              "#9c179e"
             ],
             [
              0.4444444444444444,
              "#bd3786"
             ],
             [
              0.5555555555555556,
              "#d8576b"
             ],
             [
              0.6666666666666666,
              "#ed7953"
             ],
             [
              0.7777777777777778,
              "#fb9f3a"
             ],
             [
              0.8888888888888888,
              "#fdca26"
             ],
             [
              1,
              "#f0f921"
             ]
            ],
            "type": "histogram2dcontour"
           }
          ],
          "mesh3d": [
           {
            "colorbar": {
             "outlinewidth": 0,
             "ticks": ""
            },
            "type": "mesh3d"
           }
          ],
          "parcoords": [
           {
            "line": {
             "colorbar": {
              "outlinewidth": 0,
              "ticks": ""
             }
            },
            "type": "parcoords"
           }
          ],
          "pie": [
           {
            "automargin": true,
            "type": "pie"
           }
          ],
          "scatter": [
           {
            "marker": {
             "colorbar": {
              "outlinewidth": 0,
              "ticks": ""
             }
            },
            "type": "scatter"
           }
          ],
          "scatter3d": [
           {
            "line": {
             "colorbar": {
              "outlinewidth": 0,
              "ticks": ""
             }
            },
            "marker": {
             "colorbar": {
              "outlinewidth": 0,
              "ticks": ""
             }
            },
            "type": "scatter3d"
           }
          ],
          "scattercarpet": [
           {
            "marker": {
             "colorbar": {
              "outlinewidth": 0,
              "ticks": ""
             }
            },
            "type": "scattercarpet"
           }
          ],
          "scattergeo": [
           {
            "marker": {
             "colorbar": {
              "outlinewidth": 0,
              "ticks": ""
             }
            },
            "type": "scattergeo"
           }
          ],
          "scattergl": [
           {
            "marker": {
             "colorbar": {
              "outlinewidth": 0,
              "ticks": ""
             }
            },
            "type": "scattergl"
           }
          ],
          "scattermapbox": [
           {
            "marker": {
             "colorbar": {
              "outlinewidth": 0,
              "ticks": ""
             }
            },
            "type": "scattermapbox"
           }
          ],
          "scatterpolar": [
           {
            "marker": {
             "colorbar": {
              "outlinewidth": 0,
              "ticks": ""
             }
            },
            "type": "scatterpolar"
           }
          ],
          "scatterpolargl": [
           {
            "marker": {
             "colorbar": {
              "outlinewidth": 0,
              "ticks": ""
             }
            },
            "type": "scatterpolargl"
           }
          ],
          "scatterternary": [
           {
            "marker": {
             "colorbar": {
              "outlinewidth": 0,
              "ticks": ""
             }
            },
            "type": "scatterternary"
           }
          ],
          "surface": [
           {
            "colorbar": {
             "outlinewidth": 0,
             "ticks": ""
            },
            "colorscale": [
             [
              0,
              "#0d0887"
             ],
             [
              0.1111111111111111,
              "#46039f"
             ],
             [
              0.2222222222222222,
              "#7201a8"
             ],
             [
              0.3333333333333333,
              "#9c179e"
             ],
             [
              0.4444444444444444,
              "#bd3786"
             ],
             [
              0.5555555555555556,
              "#d8576b"
             ],
             [
              0.6666666666666666,
              "#ed7953"
             ],
             [
              0.7777777777777778,
              "#fb9f3a"
             ],
             [
              0.8888888888888888,
              "#fdca26"
             ],
             [
              1,
              "#f0f921"
             ]
            ],
            "type": "surface"
           }
          ],
          "table": [
           {
            "cells": {
             "fill": {
              "color": "#EBF0F8"
             },
             "line": {
              "color": "white"
             }
            },
            "header": {
             "fill": {
              "color": "#C8D4E3"
             },
             "line": {
              "color": "white"
             }
            },
            "type": "table"
           }
          ]
         },
         "layout": {
          "annotationdefaults": {
           "arrowcolor": "#2a3f5f",
           "arrowhead": 0,
           "arrowwidth": 1
          },
          "autotypenumbers": "strict",
          "coloraxis": {
           "colorbar": {
            "outlinewidth": 0,
            "ticks": ""
           }
          },
          "colorscale": {
           "diverging": [
            [
             0,
             "#8e0152"
            ],
            [
             0.1,
             "#c51b7d"
            ],
            [
             0.2,
             "#de77ae"
            ],
            [
             0.3,
             "#f1b6da"
            ],
            [
             0.4,
             "#fde0ef"
            ],
            [
             0.5,
             "#f7f7f7"
            ],
            [
             0.6,
             "#e6f5d0"
            ],
            [
             0.7,
             "#b8e186"
            ],
            [
             0.8,
             "#7fbc41"
            ],
            [
             0.9,
             "#4d9221"
            ],
            [
             1,
             "#276419"
            ]
           ],
           "sequential": [
            [
             0,
             "#0d0887"
            ],
            [
             0.1111111111111111,
             "#46039f"
            ],
            [
             0.2222222222222222,
             "#7201a8"
            ],
            [
             0.3333333333333333,
             "#9c179e"
            ],
            [
             0.4444444444444444,
             "#bd3786"
            ],
            [
             0.5555555555555556,
             "#d8576b"
            ],
            [
             0.6666666666666666,
             "#ed7953"
            ],
            [
             0.7777777777777778,
             "#fb9f3a"
            ],
            [
             0.8888888888888888,
             "#fdca26"
            ],
            [
             1,
             "#f0f921"
            ]
           ],
           "sequentialminus": [
            [
             0,
             "#0d0887"
            ],
            [
             0.1111111111111111,
             "#46039f"
            ],
            [
             0.2222222222222222,
             "#7201a8"
            ],
            [
             0.3333333333333333,
             "#9c179e"
            ],
            [
             0.4444444444444444,
             "#bd3786"
            ],
            [
             0.5555555555555556,
             "#d8576b"
            ],
            [
             0.6666666666666666,
             "#ed7953"
            ],
            [
             0.7777777777777778,
             "#fb9f3a"
            ],
            [
             0.8888888888888888,
             "#fdca26"
            ],
            [
             1,
             "#f0f921"
            ]
           ]
          },
          "colorway": [
           "#636efa",
           "#EF553B",
           "#00cc96",
           "#ab63fa",
           "#FFA15A",
           "#19d3f3",
           "#FF6692",
           "#B6E880",
           "#FF97FF",
           "#FECB52"
          ],
          "font": {
           "color": "#2a3f5f"
          },
          "geo": {
           "bgcolor": "white",
           "lakecolor": "white",
           "landcolor": "#E5ECF6",
           "showlakes": true,
           "showland": true,
           "subunitcolor": "white"
          },
          "hoverlabel": {
           "align": "left"
          },
          "hovermode": "closest",
          "mapbox": {
           "style": "light"
          },
          "paper_bgcolor": "white",
          "plot_bgcolor": "#E5ECF6",
          "polar": {
           "angularaxis": {
            "gridcolor": "white",
            "linecolor": "white",
            "ticks": ""
           },
           "bgcolor": "#E5ECF6",
           "radialaxis": {
            "gridcolor": "white",
            "linecolor": "white",
            "ticks": ""
           }
          },
          "scene": {
           "xaxis": {
            "backgroundcolor": "#E5ECF6",
            "gridcolor": "white",
            "gridwidth": 2,
            "linecolor": "white",
            "showbackground": true,
            "ticks": "",
            "zerolinecolor": "white"
           },
           "yaxis": {
            "backgroundcolor": "#E5ECF6",
            "gridcolor": "white",
            "gridwidth": 2,
            "linecolor": "white",
            "showbackground": true,
            "ticks": "",
            "zerolinecolor": "white"
           },
           "zaxis": {
            "backgroundcolor": "#E5ECF6",
            "gridcolor": "white",
            "gridwidth": 2,
            "linecolor": "white",
            "showbackground": true,
            "ticks": "",
            "zerolinecolor": "white"
           }
          },
          "shapedefaults": {
           "line": {
            "color": "#2a3f5f"
           }
          },
          "ternary": {
           "aaxis": {
            "gridcolor": "white",
            "linecolor": "white",
            "ticks": ""
           },
           "baxis": {
            "gridcolor": "white",
            "linecolor": "white",
            "ticks": ""
           },
           "bgcolor": "#E5ECF6",
           "caxis": {
            "gridcolor": "white",
            "linecolor": "white",
            "ticks": ""
           }
          },
          "title": {
           "x": 0.05
          },
          "xaxis": {
           "automargin": true,
           "gridcolor": "white",
           "linecolor": "white",
           "ticks": "",
           "title": {
            "standoff": 15
           },
           "zerolinecolor": "white",
           "zerolinewidth": 2
          },
          "yaxis": {
           "automargin": true,
           "gridcolor": "white",
           "linecolor": "white",
           "ticks": "",
           "title": {
            "standoff": 15
           },
           "zerolinecolor": "white",
           "zerolinewidth": 2
          }
         }
        }
       }
      },
      "text/html": [
       "<div>                            <div id=\"d3a3f751-4679-4173-9c68-96391ad67ce3\" class=\"plotly-graph-div\" style=\"height:525px; width:100%;\"></div>            <script type=\"text/javascript\">                require([\"plotly\"], function(Plotly) {                    window.PLOTLYENV=window.PLOTLYENV || {};                                    if (document.getElementById(\"d3a3f751-4679-4173-9c68-96391ad67ce3\")) {                    Plotly.newPlot(                        \"d3a3f751-4679-4173-9c68-96391ad67ce3\",                        [{\"type\": \"bar\", \"x\": [\"NNP\", \"VBD\", \"RB\", \"VB\", \"TO\", \"NN\", \".\", \"DT\", \",\", \"PRP\", \"IN\", \"MD\", \"CC\", \"JJ\", \"RP\", \"CD\", \"NNS\", \"VBG\", \"VBN\", \"JJR\", \"PRP$\", \"RBR\", \"JJS\", \":\", \"WP\"], \"y\": [22, 37, 27, 17, 10, 40, 24, 24, 18, 27, 33, 5, 12, 17, 1, 1, 4, 4, 3, 1, 7, 3, 1, 1, 1]}],                        {\"template\": {\"data\": {\"bar\": [{\"error_x\": {\"color\": \"#2a3f5f\"}, \"error_y\": {\"color\": \"#2a3f5f\"}, \"marker\": {\"line\": {\"color\": \"#E5ECF6\", \"width\": 0.5}}, \"type\": \"bar\"}], \"barpolar\": [{\"marker\": {\"line\": {\"color\": \"#E5ECF6\", \"width\": 0.5}}, \"type\": \"barpolar\"}], \"carpet\": [{\"aaxis\": {\"endlinecolor\": \"#2a3f5f\", \"gridcolor\": \"white\", \"linecolor\": \"white\", \"minorgridcolor\": \"white\", \"startlinecolor\": \"#2a3f5f\"}, \"baxis\": {\"endlinecolor\": \"#2a3f5f\", \"gridcolor\": \"white\", \"linecolor\": \"white\", \"minorgridcolor\": \"white\", \"startlinecolor\": \"#2a3f5f\"}, \"type\": \"carpet\"}], \"choropleth\": [{\"colorbar\": {\"outlinewidth\": 0, \"ticks\": \"\"}, \"type\": \"choropleth\"}], \"contour\": [{\"colorbar\": {\"outlinewidth\": 0, \"ticks\": \"\"}, \"colorscale\": [[0.0, \"#0d0887\"], [0.1111111111111111, \"#46039f\"], [0.2222222222222222, \"#7201a8\"], [0.3333333333333333, \"#9c179e\"], [0.4444444444444444, \"#bd3786\"], [0.5555555555555556, \"#d8576b\"], [0.6666666666666666, \"#ed7953\"], [0.7777777777777778, \"#fb9f3a\"], [0.8888888888888888, \"#fdca26\"], [1.0, \"#f0f921\"]], \"type\": \"contour\"}], \"contourcarpet\": [{\"colorbar\": {\"outlinewidth\": 0, \"ticks\": \"\"}, \"type\": \"contourcarpet\"}], \"heatmap\": [{\"colorbar\": {\"outlinewidth\": 0, \"ticks\": \"\"}, \"colorscale\": [[0.0, \"#0d0887\"], [0.1111111111111111, \"#46039f\"], [0.2222222222222222, \"#7201a8\"], [0.3333333333333333, \"#9c179e\"], [0.4444444444444444, \"#bd3786\"], [0.5555555555555556, \"#d8576b\"], [0.6666666666666666, \"#ed7953\"], [0.7777777777777778, \"#fb9f3a\"], [0.8888888888888888, \"#fdca26\"], [1.0, \"#f0f921\"]], \"type\": \"heatmap\"}], \"heatmapgl\": [{\"colorbar\": {\"outlinewidth\": 0, \"ticks\": \"\"}, \"colorscale\": [[0.0, \"#0d0887\"], [0.1111111111111111, \"#46039f\"], [0.2222222222222222, \"#7201a8\"], [0.3333333333333333, \"#9c179e\"], [0.4444444444444444, \"#bd3786\"], [0.5555555555555556, \"#d8576b\"], [0.6666666666666666, \"#ed7953\"], [0.7777777777777778, \"#fb9f3a\"], [0.8888888888888888, \"#fdca26\"], [1.0, \"#f0f921\"]], \"type\": \"heatmapgl\"}], \"histogram\": [{\"marker\": {\"colorbar\": {\"outlinewidth\": 0, \"ticks\": \"\"}}, \"type\": \"histogram\"}], \"histogram2d\": [{\"colorbar\": {\"outlinewidth\": 0, \"ticks\": \"\"}, \"colorscale\": [[0.0, \"#0d0887\"], [0.1111111111111111, \"#46039f\"], [0.2222222222222222, \"#7201a8\"], [0.3333333333333333, \"#9c179e\"], [0.4444444444444444, \"#bd3786\"], [0.5555555555555556, \"#d8576b\"], [0.6666666666666666, \"#ed7953\"], [0.7777777777777778, \"#fb9f3a\"], [0.8888888888888888, \"#fdca26\"], [1.0, \"#f0f921\"]], \"type\": \"histogram2d\"}], \"histogram2dcontour\": [{\"colorbar\": {\"outlinewidth\": 0, \"ticks\": \"\"}, \"colorscale\": [[0.0, \"#0d0887\"], [0.1111111111111111, \"#46039f\"], [0.2222222222222222, \"#7201a8\"], [0.3333333333333333, \"#9c179e\"], [0.4444444444444444, \"#bd3786\"], [0.5555555555555556, \"#d8576b\"], [0.6666666666666666, \"#ed7953\"], [0.7777777777777778, \"#fb9f3a\"], [0.8888888888888888, \"#fdca26\"], [1.0, \"#f0f921\"]], \"type\": \"histogram2dcontour\"}], \"mesh3d\": [{\"colorbar\": {\"outlinewidth\": 0, \"ticks\": \"\"}, \"type\": \"mesh3d\"}], \"parcoords\": [{\"line\": {\"colorbar\": {\"outlinewidth\": 0, \"ticks\": \"\"}}, \"type\": \"parcoords\"}], \"pie\": [{\"automargin\": true, \"type\": \"pie\"}], \"scatter\": [{\"marker\": {\"colorbar\": {\"outlinewidth\": 0, \"ticks\": \"\"}}, \"type\": \"scatter\"}], \"scatter3d\": [{\"line\": {\"colorbar\": {\"outlinewidth\": 0, \"ticks\": \"\"}}, \"marker\": {\"colorbar\": {\"outlinewidth\": 0, \"ticks\": \"\"}}, \"type\": \"scatter3d\"}], \"scattercarpet\": [{\"marker\": {\"colorbar\": {\"outlinewidth\": 0, \"ticks\": \"\"}}, \"type\": \"scattercarpet\"}], \"scattergeo\": [{\"marker\": {\"colorbar\": {\"outlinewidth\": 0, \"ticks\": \"\"}}, \"type\": \"scattergeo\"}], \"scattergl\": [{\"marker\": {\"colorbar\": {\"outlinewidth\": 0, \"ticks\": \"\"}}, \"type\": \"scattergl\"}], \"scattermapbox\": [{\"marker\": {\"colorbar\": {\"outlinewidth\": 0, \"ticks\": \"\"}}, \"type\": \"scattermapbox\"}], \"scatterpolar\": [{\"marker\": {\"colorbar\": {\"outlinewidth\": 0, \"ticks\": \"\"}}, \"type\": \"scatterpolar\"}], \"scatterpolargl\": [{\"marker\": {\"colorbar\": {\"outlinewidth\": 0, \"ticks\": \"\"}}, \"type\": \"scatterpolargl\"}], \"scatterternary\": [{\"marker\": {\"colorbar\": {\"outlinewidth\": 0, \"ticks\": \"\"}}, \"type\": \"scatterternary\"}], \"surface\": [{\"colorbar\": {\"outlinewidth\": 0, \"ticks\": \"\"}, \"colorscale\": [[0.0, \"#0d0887\"], [0.1111111111111111, \"#46039f\"], [0.2222222222222222, \"#7201a8\"], [0.3333333333333333, \"#9c179e\"], [0.4444444444444444, \"#bd3786\"], [0.5555555555555556, \"#d8576b\"], [0.6666666666666666, \"#ed7953\"], [0.7777777777777778, \"#fb9f3a\"], [0.8888888888888888, \"#fdca26\"], [1.0, \"#f0f921\"]], \"type\": \"surface\"}], \"table\": [{\"cells\": {\"fill\": {\"color\": \"#EBF0F8\"}, \"line\": {\"color\": \"white\"}}, \"header\": {\"fill\": {\"color\": \"#C8D4E3\"}, \"line\": {\"color\": \"white\"}}, \"type\": \"table\"}]}, \"layout\": {\"annotationdefaults\": {\"arrowcolor\": \"#2a3f5f\", \"arrowhead\": 0, \"arrowwidth\": 1}, \"autotypenumbers\": \"strict\", \"coloraxis\": {\"colorbar\": {\"outlinewidth\": 0, \"ticks\": \"\"}}, \"colorscale\": {\"diverging\": [[0, \"#8e0152\"], [0.1, \"#c51b7d\"], [0.2, \"#de77ae\"], [0.3, \"#f1b6da\"], [0.4, \"#fde0ef\"], [0.5, \"#f7f7f7\"], [0.6, \"#e6f5d0\"], [0.7, \"#b8e186\"], [0.8, \"#7fbc41\"], [0.9, \"#4d9221\"], [1, \"#276419\"]], \"sequential\": [[0.0, \"#0d0887\"], [0.1111111111111111, \"#46039f\"], [0.2222222222222222, \"#7201a8\"], [0.3333333333333333, \"#9c179e\"], [0.4444444444444444, \"#bd3786\"], [0.5555555555555556, \"#d8576b\"], [0.6666666666666666, \"#ed7953\"], [0.7777777777777778, \"#fb9f3a\"], [0.8888888888888888, \"#fdca26\"], [1.0, \"#f0f921\"]], \"sequentialminus\": [[0.0, \"#0d0887\"], [0.1111111111111111, \"#46039f\"], [0.2222222222222222, \"#7201a8\"], [0.3333333333333333, \"#9c179e\"], [0.4444444444444444, \"#bd3786\"], [0.5555555555555556, \"#d8576b\"], [0.6666666666666666, \"#ed7953\"], [0.7777777777777778, \"#fb9f3a\"], [0.8888888888888888, \"#fdca26\"], [1.0, \"#f0f921\"]]}, \"colorway\": [\"#636efa\", \"#EF553B\", \"#00cc96\", \"#ab63fa\", \"#FFA15A\", \"#19d3f3\", \"#FF6692\", \"#B6E880\", \"#FF97FF\", \"#FECB52\"], \"font\": {\"color\": \"#2a3f5f\"}, \"geo\": {\"bgcolor\": \"white\", \"lakecolor\": \"white\", \"landcolor\": \"#E5ECF6\", \"showlakes\": true, \"showland\": true, \"subunitcolor\": \"white\"}, \"hoverlabel\": {\"align\": \"left\"}, \"hovermode\": \"closest\", \"mapbox\": {\"style\": \"light\"}, \"paper_bgcolor\": \"white\", \"plot_bgcolor\": \"#E5ECF6\", \"polar\": {\"angularaxis\": {\"gridcolor\": \"white\", \"linecolor\": \"white\", \"ticks\": \"\"}, \"bgcolor\": \"#E5ECF6\", \"radialaxis\": {\"gridcolor\": \"white\", \"linecolor\": \"white\", \"ticks\": \"\"}}, \"scene\": {\"xaxis\": {\"backgroundcolor\": \"#E5ECF6\", \"gridcolor\": \"white\", \"gridwidth\": 2, \"linecolor\": \"white\", \"showbackground\": true, \"ticks\": \"\", \"zerolinecolor\": \"white\"}, \"yaxis\": {\"backgroundcolor\": \"#E5ECF6\", \"gridcolor\": \"white\", \"gridwidth\": 2, \"linecolor\": \"white\", \"showbackground\": true, \"ticks\": \"\", \"zerolinecolor\": \"white\"}, \"zaxis\": {\"backgroundcolor\": \"#E5ECF6\", \"gridcolor\": \"white\", \"gridwidth\": 2, \"linecolor\": \"white\", \"showbackground\": true, \"ticks\": \"\", \"zerolinecolor\": \"white\"}}, \"shapedefaults\": {\"line\": {\"color\": \"#2a3f5f\"}}, \"ternary\": {\"aaxis\": {\"gridcolor\": \"white\", \"linecolor\": \"white\", \"ticks\": \"\"}, \"baxis\": {\"gridcolor\": \"white\", \"linecolor\": \"white\", \"ticks\": \"\"}, \"bgcolor\": \"#E5ECF6\", \"caxis\": {\"gridcolor\": \"white\", \"linecolor\": \"white\", \"ticks\": \"\"}}, \"title\": {\"x\": 0.05}, \"xaxis\": {\"automargin\": true, \"gridcolor\": \"white\", \"linecolor\": \"white\", \"ticks\": \"\", \"title\": {\"standoff\": 15}, \"zerolinecolor\": \"white\", \"zerolinewidth\": 2}, \"yaxis\": {\"automargin\": true, \"gridcolor\": \"white\", \"linecolor\": \"white\", \"ticks\": \"\", \"title\": {\"standoff\": 15}, \"zerolinecolor\": \"white\", \"zerolinewidth\": 2}}}},                        {\"responsive\": true}                    ).then(function(){\n",
       "                            \n",
       "var gd = document.getElementById('d3a3f751-4679-4173-9c68-96391ad67ce3');\n",
       "var x = new MutationObserver(function (mutations, observer) {{\n",
       "        var display = window.getComputedStyle(gd).display;\n",
       "        if (!display || display === 'none') {{\n",
       "            console.log([gd, 'removed!']);\n",
       "            Plotly.purge(gd);\n",
       "            observer.disconnect();\n",
       "        }}\n",
       "}});\n",
       "\n",
       "// Listen for the removal of the full notebook cells\n",
       "var notebookContainer = gd.closest('#notebook-container');\n",
       "if (notebookContainer) {{\n",
       "    x.observe(notebookContainer, {childList: true});\n",
       "}}\n",
       "\n",
       "// Listen for the clearing of the current output cell\n",
       "var outputEl = gd.closest('.output');\n",
       "if (outputEl) {{\n",
       "    x.observe(outputEl, {childList: true});\n",
       "}}\n",
       "\n",
       "                        })                };                });            </script>        </div>"
      ]
     },
     "metadata": {},
     "output_type": "display_data"
    }
   ],
   "source": [
    "# https://pythonexamples.org/python-dictionary-keys-to-list/\n",
    "# for key, value in x.items():\n",
    "#         print(f\"{key}: {value}\")\n",
    "# keysList = list(myDict.keys())\n",
    "\n",
    "# https://plotly.com/python/bar-charts/\n",
    "keysList = list(x.keys())  \n",
    "valuesList = list(x.values()) \n",
    "print(keysList)\n",
    "print(valuesList)\n",
    "\n",
    "\n",
    "import plotly.graph_objects as go\n",
    "\n",
    "fig = go.Figure([go.Bar(x=keysList, y=valuesList)])\n",
    "fig.show()"
   ]
  },
  {
   "cell_type": "code",
   "execution_count": 239,
   "metadata": {},
   "outputs": [
    {
     "name": "stdout",
     "output_type": "stream",
     "text": [
      "NNP\n",
      "Edward\n",
      "NNP\n",
      "Cullen\n",
      "VBZ\n",
      "didn\n",
      "JJ\n",
      "t\n",
      "VB\n",
      "come\n",
      "RB\n",
      "back\n",
      "TO\n",
      "to\n",
      "NN\n",
      "school\n",
      "NNP\n",
      "Every\n",
      "NN\n",
      "day\n",
      "PRP\n",
      "I\n",
      "VBD\n",
      "watched\n",
      "RB\n",
      "anxiously\n",
      "IN\n",
      "until\n",
      "DT\n",
      "the\n",
      "NN\n",
      "rest\n",
      "IN\n",
      "of\n",
      "DT\n",
      "the\n",
      "NNP\n",
      "Cullens\n",
      "VBD\n",
      "entered\n",
      "DT\n",
      "the\n",
      "NN\n",
      "cafeteria\n",
      "IN\n",
      "without\n",
      "PRP\n",
      "him\n",
      "RB\n",
      "Then\n",
      "PRP\n",
      "I\n",
      "MD\n",
      "could\n",
      "VB\n",
      "relax\n",
      "CC\n",
      "and\n",
      "VB\n",
      "join\n",
      "IN\n",
      "in\n",
      "DT\n",
      "the\n",
      "JJ\n",
      "lunchtime\n",
      "NN\n",
      "conversation\n",
      "NNP\n",
      "Mostly\n",
      "PRP\n",
      "it\n",
      "VBD\n",
      "centered\n",
      "RP\n",
      "around\n",
      "DT\n",
      "a\n",
      "NN\n",
      "trip\n",
      "TO\n",
      "to\n",
      "DT\n",
      "the\n",
      "NNP\n",
      "La\n",
      "NNP\n",
      "Push\n",
      "NNP\n",
      "Ocean\n",
      "NNP\n",
      "Park\n",
      "IN\n",
      "in\n",
      "CD\n",
      "two\n",
      "NNS\n",
      "weeks\n",
      "IN\n",
      "that\n",
      "NNP\n",
      "Mike\n",
      "VBD\n",
      "was\n",
      "VBG\n",
      "putting\n",
      "RB\n",
      "together\n",
      "PRP\n",
      "I\n",
      "VBD\n",
      "was\n",
      "VBN\n",
      "invited\n",
      "CC\n",
      "and\n",
      "PRP\n",
      "I\n",
      "VBD\n",
      "had\n",
      "VBN\n",
      "agreed\n",
      "TO\n",
      "to\n",
      "VB\n",
      "go\n",
      "RBR\n",
      "more\n",
      "IN\n",
      "out\n",
      "IN\n",
      "of\n",
      "NN\n",
      "politeness\n",
      "IN\n",
      "than\n",
      "NN\n",
      "desire\n",
      "NNP\n",
      "Beaches\n",
      "MD\n",
      "should\n",
      "VB\n",
      "be\n",
      "JJ\n",
      "hot\n",
      "CC\n",
      "and\n",
      "JJ\n",
      "dry\n",
      "IN\n",
      "By\n",
      "NNP\n",
      "Friday\n",
      "PRP\n",
      "I\n",
      "VBD\n",
      "was\n",
      "RB\n",
      "perfectly\n",
      "JJ\n",
      "comfortable\n",
      "VBG\n",
      "entering\n",
      "PRP$\n",
      "my\n",
      "NNP\n",
      "Biology\n",
      "NN\n",
      "class\n",
      "RB\n",
      "no\n",
      "RB\n",
      "longer\n",
      "VBD\n",
      "worried\n",
      "IN\n",
      "that\n",
      "NNP\n",
      "Edward\n",
      "MD\n",
      "would\n",
      "VB\n",
      "be\n",
      "RB\n",
      "there\n",
      "IN\n",
      "For\n",
      "DT\n",
      "all\n",
      "PRP\n",
      "I\n",
      "VBD\n",
      "knew\n",
      "PRP\n",
      "he\n",
      "VBD\n",
      "had\n",
      "VBN\n",
      "dropped\n",
      "IN\n",
      "out\n",
      "IN\n",
      "of\n",
      "NN\n",
      "school\n",
      "PRP\n",
      "I\n",
      "VBD\n",
      "tried\n",
      "RB\n",
      "not\n",
      "TO\n",
      "to\n",
      "VB\n",
      "think\n",
      "IN\n",
      "about\n",
      "PRP\n",
      "him\n",
      "CC\n",
      "but\n",
      "PRP\n",
      "I\n",
      "VBP\n",
      "couldn\n",
      "JJ\n",
      "t\n",
      "RB\n",
      "totally\n",
      "VBP\n",
      "suppress\n",
      "DT\n",
      "the\n",
      "NN\n",
      "worry\n",
      "IN\n",
      "that\n",
      "PRP\n",
      "I\n",
      "VBD\n",
      "was\n",
      "JJ\n",
      "responsible\n",
      "IN\n",
      "for\n",
      "PRP$\n",
      "his\n",
      "JJ\n",
      "continued\n",
      "NN\n",
      "absence\n",
      "JJ\n",
      "ridiculous\n",
      "IN\n",
      "as\n",
      "PRP\n",
      "it\n",
      "VBD\n",
      "seemed\n",
      "NNP\n",
      "My\n",
      "JJ\n",
      "first\n",
      "NN\n",
      "weekend\n",
      "IN\n",
      "in\n",
      "NNP\n",
      "Forks\n",
      "VBD\n",
      "passed\n",
      "IN\n",
      "without\n",
      "NN\n",
      "incident\n",
      "NNP\n",
      "Charlie\n",
      "VBD\n",
      "unused\n",
      "TO\n",
      "to\n",
      "VBG\n",
      "spending\n",
      "NN\n",
      "time\n",
      "IN\n",
      "in\n",
      "DT\n",
      "the\n",
      "RB\n",
      "usually\n",
      "JJ\n",
      "empty\n",
      "NN\n",
      "house\n",
      "VBD\n",
      "worked\n",
      "JJS\n",
      "most\n",
      "IN\n",
      "of\n",
      "DT\n",
      "the\n",
      "NN\n",
      "weekend\n",
      "PRP\n",
      "I\n",
      "VBD\n",
      "cleaned\n",
      "DT\n",
      "the\n",
      "NN\n",
      "house\n",
      "VBD\n",
      "got\n",
      "RB\n",
      "ahead\n",
      "IN\n",
      "on\n",
      "PRP$\n",
      "my\n",
      "NN\n",
      "homework\n",
      "CC\n",
      "and\n",
      "VBD\n",
      "wrote\n",
      "PRP$\n",
      "my\n",
      "NN\n",
      "mom\n",
      "RBR\n",
      "more\n",
      "RB\n",
      "bogusly\n",
      "JJ\n",
      "cheerful\n",
      "JJ\n",
      "e\n",
      "NN\n",
      "mail\n",
      "PRP\n",
      "I\n",
      "VBD\n",
      "did\n",
      "VB\n",
      "drive\n",
      "TO\n",
      "to\n",
      "DT\n",
      "the\n",
      "JJ\n",
      "library\n",
      "NNP\n",
      "Saturday\n",
      "CC\n",
      "but\n",
      "PRP\n",
      "it\n",
      "VBD\n",
      "was\n",
      "RB\n",
      "so\n",
      "RB\n",
      "poorly\n",
      "VBD\n",
      "stocked\n",
      "IN\n",
      "that\n",
      "PRP\n",
      "I\n",
      "VBP\n",
      "didn\n",
      "RB\n",
      "t\n",
      "RB\n",
      "bother\n",
      "TO\n",
      "to\n",
      "VB\n",
      "get\n",
      "DT\n",
      "a\n",
      "NN\n",
      "card\n",
      "PRP\n",
      "I\n",
      "MD\n",
      "would\n",
      "VB\n",
      "have\n",
      "TO\n",
      "to\n",
      "VB\n",
      "make\n",
      "DT\n",
      "a\n",
      "NN\n",
      "date\n",
      "TO\n",
      "to\n",
      "VB\n",
      "visit\n",
      "NNP\n",
      "Olympia\n",
      "CC\n",
      "or\n",
      "NNP\n",
      "Seattle\n",
      "RB\n",
      "soon\n",
      "CC\n",
      "and\n",
      "VB\n",
      "find\n",
      "DT\n",
      "a\n",
      "JJ\n",
      "good\n",
      "NN\n",
      "bookstore\n",
      "PRP\n",
      "I\n",
      "VBD\n",
      "wondered\n",
      "RB\n",
      "idly\n",
      "WP\n",
      "what\n",
      "NN\n",
      "kind\n",
      "IN\n",
      "of\n",
      "NN\n",
      "gas\n",
      "NN\n",
      "mileage\n",
      "DT\n",
      "the\n",
      "NN\n",
      "truck\n",
      "VBD\n",
      "got\n",
      "CC\n",
      "and\n",
      "VBD\n",
      "shuddered\n",
      "IN\n",
      "at\n",
      "DT\n",
      "the\n",
      "NN\n",
      "thought\n",
      "DT\n",
      "The\n",
      "NN\n",
      "rain\n",
      "VBD\n",
      "stayed\n",
      "JJ\n",
      "soft\n",
      "IN\n",
      "over\n",
      "DT\n",
      "the\n",
      "NN\n",
      "weekend\n",
      "VBZ\n",
      "quiet\n",
      "RB\n",
      "so\n",
      "PRP\n",
      "I\n",
      "VBD\n",
      "was\n",
      "JJ\n",
      "able\n",
      "TO\n",
      "to\n",
      "VB\n",
      "sleep\n",
      "RB\n",
      "well\n",
      "NNP\n",
      "People\n",
      "VBD\n",
      "greeted\n",
      "PRP\n",
      "me\n",
      "IN\n",
      "in\n",
      "DT\n",
      "the\n",
      "NN\n",
      "parking\n",
      "NN\n",
      "lot\n",
      "NNP\n",
      "Monday\n",
      "NN\n",
      "morning\n",
      "PRP\n",
      "I\n",
      "VBP\n",
      "didn\n",
      "NNS\n",
      "t\n",
      "VBP\n",
      "know\n",
      "DT\n",
      "all\n",
      "PRP$\n",
      "their\n",
      "NNS\n",
      "names\n",
      "CC\n",
      "but\n",
      "PRP\n",
      "I\n",
      "VBD\n",
      "waved\n",
      "RB\n",
      "back\n",
      "CC\n",
      "and\n",
      "VBD\n",
      "smiled\n",
      "IN\n",
      "at\n",
      "NN\n",
      "everyone\n",
      "PRP\n",
      "It\n",
      "VBD\n",
      "was\n",
      "RBR\n",
      "colder\n",
      "DT\n",
      "this\n",
      "NN\n",
      "morning\n",
      "CC\n",
      "but\n",
      "RB\n",
      "happily\n",
      "RB\n",
      "not\n",
      "VBG\n",
      "raining\n",
      "IN\n",
      "In\n",
      "NNP\n",
      "English\n",
      "NNP\n",
      "Mike\n",
      "VBD\n",
      "took\n",
      "PRP$\n",
      "his\n",
      "JJ\n",
      "accustomed\n",
      "NN\n",
      "seat\n",
      "IN\n",
      "by\n",
      "PRP$\n",
      "my\n",
      "NN\n",
      "side\n",
      "PRP\n",
      "We\n",
      "VBD\n",
      "had\n",
      "DT\n",
      "a\n",
      "NN\n",
      "pop\n",
      "NN\n",
      "quiz\n",
      "IN\n",
      "on\n",
      "VBG\n",
      "Wuthering\n",
      "NNS\n",
      "Heights\n",
      "PRP\n",
      "It\n",
      "VBD\n",
      "was\n",
      "JJ\n",
      "straightforward\n",
      "RB\n",
      "very\n",
      "JJ\n",
      "easy\n",
      "NNP\n"
     ]
    }
   ],
   "source": [
    "# keysList = list(x.keys())  \n",
    "# result_valuesList = list(x.values()) \n",
    "tokenizer = nltk.RegexpTokenizer(r\"\\w+\")\n",
    "# text2 = nltk.word_tokenize(text)\n",
    "text2 = tokenizer.tokenize(text)\n",
    "result = nltk.pos_tag(text2)\n",
    "# get the tags and words\n",
    "\n",
    "\n",
    "for i in range(0, len(result)):\n",
    "    print(result[i][1])\n",
    "    print(result[i][0])\n",
    "print(result[1][1])\n",
    "# print(result)\n",
    "\n",
    "# result_valuesList = list(for i in result[i][1]) \n",
    "# print(result_valuesList)\n",
    "# print(valuesList)\n"
   ]
  },
  {
   "cell_type": "markdown",
   "metadata": {},
   "source": [
    "## Flesch reading ease\n",
    "In the **Flesch reading-ease test**, higher scores indicate material that is easier to read; lower numbers mark passages that are more difficult to read. The formula for the Flesch reading-ease score (FRES) test is:\n",
    "\n",
    "206.835-1.015(total_words / total_sentences)-84.6*(total_syllables/ total_words)"
   ]
  },
  {
   "cell_type": "code",
   "execution_count": 36,
   "metadata": {
    "scrolled": true
   },
   "outputs": [
    {
     "name": "stdout",
     "output_type": "stream",
     "text": [
      "total_syl: 431\n"
     ]
    },
    {
     "data": {
      "text/plain": [
       "431"
      ]
     },
     "execution_count": 36,
     "metadata": {},
     "output_type": "execute_result"
    }
   ],
   "source": [
    "# words = text.split()\n",
    "# syllable_count(words)\n",
    "def total_syl(words):\n",
    "    '''get total sylables from text'''\n",
    "    num = 0\n",
    "    \n",
    "    for i in range(0,len(words)):\n",
    "#         print(result[i][0], syllable_count(words[i]))\n",
    "        num += int(syllable_count(words[i]))\n",
    "    print(\"total_syl:\", num)\n",
    "    return num\n",
    "total_syl(words)\n",
    "print('Number of words in text :', len(words))\n",
    "from nltk.tokenize import sent_tokenize\n",
    "sentence_list=sent_tokenize(text)\n",
    "sentence_list.remove('.')\n",
    "total_sentences=len(sentence_list)\n",
    "print(total_sentences) \n",
    "def flesch_reading_ease(words):\n",
    "    total_words =\n",
    "    sentence_list=sent_tokenize(words)\n",
    "    sentence_list.remove('.')\n",
    "    total_sentences=len(sentence_list)\n",
    "    total_syllables=total_syl(words)\n",
    "    206.835-1.015(total_words / total_sentences)-84.6*(total_syllables/ total_words)\n",
    "\n",
    "    \n",
    "    "
   ]
  },
  {
   "cell_type": "code",
   "execution_count": null,
   "metadata": {},
   "outputs": [],
   "source": []
  }
 ],
 "metadata": {
  "kernelspec": {
   "display_name": "Python 3",
   "language": "python",
   "name": "python3"
  },
  "language_info": {
   "codemirror_mode": {
    "name": "ipython",
    "version": 3
   },
   "file_extension": ".py",
   "mimetype": "text/x-python",
   "name": "python",
   "nbconvert_exporter": "python",
   "pygments_lexer": "ipython3",
   "version": "3.8.3"
  }
 },
 "nbformat": 4,
 "nbformat_minor": 4
}
